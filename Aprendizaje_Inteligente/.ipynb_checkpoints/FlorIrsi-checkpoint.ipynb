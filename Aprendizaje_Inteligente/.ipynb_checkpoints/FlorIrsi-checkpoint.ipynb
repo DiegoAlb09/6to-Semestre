{
 "cells": [
  {
   "cell_type": "code",
   "execution_count": 3,
   "metadata": {},
   "outputs": [],
   "source": [
    "#Universidad Autonoma de Aguascalientes\n",
    "#Departamento de Ciencias de la Computacion\n",
    "#Materia: Aprendizaje Inteligente\n",
    "#Maestro: Dr. Francisco Javier Luna Rosas\n",
    "#Alumno: Diego Alberto Aranda Gonzalez\n",
    "#Semestre: Enero-Junio 2024\n",
    "\n",
    "#Flor de Iris"
   ]
  },
  {
   "cell_type": "code",
   "execution_count": 4,
   "metadata": {},
   "outputs": [],
   "source": [
    "#Librerias\n",
    "import numpy as np\n",
    "\n",
    "#Datos\n",
    "\n",
    "tipo_flor = ['setosa', 'setosa', 'setosa', 'setosa', 'setosa', \n",
    "             'setosa', 'setosa', 'setosa', 'setosa', 'setosa',\n",
    "              'setosa', 'setosa', 'setosa', 'setosa', 'setosa',\n",
    "              'setosa', 'setosa', 'setosa', 'setosa', 'setosa',\n",
    "              'setosa', 'setosa', 'setosa', 'setosa', 'setosa',\n",
    "              'setosa', 'setosa', 'setosa', 'setosa', 'setosa',\n",
    "              'setosa', 'setosa', 'setosa', 'setosa', 'setosa',\n",
    "              'setosa', 'setosa', 'setosa', 'setosa', 'setosa',\n",
    "              'setosa', 'setosa', 'setosa', 'setosa', 'setosa',\n",
    "              'setosa', 'setosa', 'setosa', 'setosa', 'setosa',\n",
    "              'versicolor', 'versicolor', 'versicolor', 'versicolor', 'versicolor',\n",
    "              'versicolor', 'versicolor', 'versicolor', 'versicolor', 'versicolor',\n",
    "              'versicolor', 'versicolor', 'versicolor', 'versicolor', 'versicolor',\n",
    "              'versicolor', 'versicolor', 'versicolor', 'versicolor', 'versicolor',\n",
    "              'versicolor', 'versicolor', 'versicolor', 'versicolor', 'versicolor',\n",
    "              'versicolor', 'versicolor', 'versicolor', 'versicolor', 'versicolor',\n",
    "              'versicolor', 'versicolor', 'versicolor', 'versicolor', 'versicolor',\n",
    "              'versicolor', 'versicolor', 'versicolor', 'versicolor', 'versicolor',\n",
    "              'versicolor', 'versicolor', 'versicolor', 'versicolor', 'versicolor',\n",
    "              'versicolor', 'versicolor', 'versicolor', 'versicolor', 'versicolor',\n",
    "              'virginica', 'virginica', 'virginica', 'virginica', 'virginica',\n",
    "              'virginica', 'virginica', 'virginica', 'virginica', 'virginica',\n",
    "              'virginica', 'virginica', 'virginica', 'virginica', 'virginica',\n",
    "              'virginica', 'virginica', 'virginica', 'virginica', 'virginica',\n",
    "              'virginica', 'virginica', 'virginica', 'virginica', 'virginica',\n",
    "              'virginica', 'virginica', 'virginica', 'virginica', 'virginica',\n",
    "              'virginica', 'virginica', 'virginica', 'virginica', 'virginica',\n",
    "              'virginica', 'virginica', 'virginica', 'virginica', 'virginica',\n",
    "              'virginica', 'virginica', 'virginica', 'virginica', 'virginica',\n",
    "              'virginica', 'virginica', 'virginica', 'virginica', 'virginica'\n",
    "            ]\n",
    "\n"
   ]
  }
 ],
 "metadata": {
  "kernelspec": {
   "display_name": "Python 3",
   "language": "python",
   "name": "python3"
  },
  "language_info": {
   "codemirror_mode": {
    "name": "ipython",
    "version": 3
   },
   "file_extension": ".py",
   "mimetype": "text/x-python",
   "name": "python",
   "nbconvert_exporter": "python",
   "pygments_lexer": "ipython3",
   "version": "3.12.2"
  }
 },
 "nbformat": 4,
 "nbformat_minor": 2
}
