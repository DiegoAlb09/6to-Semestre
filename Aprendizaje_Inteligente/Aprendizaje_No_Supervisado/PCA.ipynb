{
 "cells": [
  {
   "cell_type": "markdown",
   "metadata": {},
   "source": [
    "#### Cargamos las Librerias"
   ]
  },
  {
   "cell_type": "code",
   "execution_count": 1,
   "metadata": {},
   "outputs": [],
   "source": [
    "#Librerias para el manejo de datos\n",
    "import numpy as np\n",
    "import pandas as pd\n",
    "import statsmodels.api as sm\n",
    "\n",
    "#Graficos\n",
    "import matplotlib.pyplot as plt\n",
    "import matplotlib.font_manager\n",
    "from matplotlib import style\n",
    "\n",
    "#Preprocesado y modelado\n",
    "from sklearn.decomposition import PCA\n",
    "from sklearn.pipeline import make_pipeline\n",
    "from sklearn.preprocessing import StandardScaler\n",
    "from sklearn.preprocessing import scale"
   ]
  },
  {
   "cell_type": "markdown",
   "metadata": {},
   "source": [
    "#### Datos"
   ]
  },
  {
   "cell_type": "code",
   "execution_count": 2,
   "metadata": {},
   "outputs": [
    {
     "data": {
      "text/html": [
       "<div>\n",
       "<style scoped>\n",
       "    .dataframe tbody tr th:only-of-type {\n",
       "        vertical-align: middle;\n",
       "    }\n",
       "\n",
       "    .dataframe tbody tr th {\n",
       "        vertical-align: top;\n",
       "    }\n",
       "\n",
       "    .dataframe thead th {\n",
       "        text-align: right;\n",
       "    }\n",
       "</style>\n",
       "<table border=\"1\" class=\"dataframe\">\n",
       "  <thead>\n",
       "    <tr style=\"text-align: right;\">\n",
       "      <th></th>\n",
       "      <th>Nombre</th>\n",
       "      <th>Matematicas</th>\n",
       "      <th>Ciencias</th>\n",
       "      <th>Espanol</th>\n",
       "      <th>Historia</th>\n",
       "      <th>EdFisica</th>\n",
       "    </tr>\n",
       "  </thead>\n",
       "  <tbody>\n",
       "    <tr>\n",
       "      <th>0</th>\n",
       "      <td>Lucia</td>\n",
       "      <td>7.0</td>\n",
       "      <td>6.5</td>\n",
       "      <td>9.2</td>\n",
       "      <td>8.6</td>\n",
       "      <td>8.0</td>\n",
       "    </tr>\n",
       "    <tr>\n",
       "      <th>1</th>\n",
       "      <td>Pedro</td>\n",
       "      <td>7.5</td>\n",
       "      <td>9.4</td>\n",
       "      <td>7.3</td>\n",
       "      <td>7.0</td>\n",
       "      <td>7.0</td>\n",
       "    </tr>\n",
       "    <tr>\n",
       "      <th>2</th>\n",
       "      <td>Ines</td>\n",
       "      <td>7.6</td>\n",
       "      <td>9.2</td>\n",
       "      <td>8.0</td>\n",
       "      <td>8.0</td>\n",
       "      <td>7.5</td>\n",
       "    </tr>\n",
       "    <tr>\n",
       "      <th>3</th>\n",
       "      <td>Luis</td>\n",
       "      <td>5.0</td>\n",
       "      <td>6.5</td>\n",
       "      <td>6.5</td>\n",
       "      <td>7.0</td>\n",
       "      <td>9.0</td>\n",
       "    </tr>\n",
       "    <tr>\n",
       "      <th>4</th>\n",
       "      <td>Andres</td>\n",
       "      <td>6.0</td>\n",
       "      <td>6.0</td>\n",
       "      <td>7.8</td>\n",
       "      <td>8.9</td>\n",
       "      <td>7.3</td>\n",
       "    </tr>\n",
       "    <tr>\n",
       "      <th>5</th>\n",
       "      <td>Ana</td>\n",
       "      <td>7.8</td>\n",
       "      <td>9.6</td>\n",
       "      <td>7.7</td>\n",
       "      <td>8.0</td>\n",
       "      <td>6.5</td>\n",
       "    </tr>\n",
       "    <tr>\n",
       "      <th>6</th>\n",
       "      <td>Carlos</td>\n",
       "      <td>6.3</td>\n",
       "      <td>6.4</td>\n",
       "      <td>8.2</td>\n",
       "      <td>9.0</td>\n",
       "      <td>7.2</td>\n",
       "    </tr>\n",
       "    <tr>\n",
       "      <th>7</th>\n",
       "      <td>Jose</td>\n",
       "      <td>7.9</td>\n",
       "      <td>9.7</td>\n",
       "      <td>7.5</td>\n",
       "      <td>8.0</td>\n",
       "      <td>6.0</td>\n",
       "    </tr>\n",
       "    <tr>\n",
       "      <th>8</th>\n",
       "      <td>Sonia</td>\n",
       "      <td>6.0</td>\n",
       "      <td>6.0</td>\n",
       "      <td>6.5</td>\n",
       "      <td>5.5</td>\n",
       "      <td>8.7</td>\n",
       "    </tr>\n",
       "    <tr>\n",
       "      <th>9</th>\n",
       "      <td>Maria</td>\n",
       "      <td>6.8</td>\n",
       "      <td>7.2</td>\n",
       "      <td>8.7</td>\n",
       "      <td>9.0</td>\n",
       "      <td>7.0</td>\n",
       "    </tr>\n",
       "  </tbody>\n",
       "</table>\n",
       "</div>"
      ],
      "text/plain": [
       "   Nombre  Matematicas  Ciencias  Espanol  Historia  EdFisica\n",
       "0   Lucia          7.0       6.5      9.2       8.6       8.0\n",
       "1   Pedro          7.5       9.4      7.3       7.0       7.0\n",
       "2    Ines          7.6       9.2      8.0       8.0       7.5\n",
       "3    Luis          5.0       6.5      6.5       7.0       9.0\n",
       "4  Andres          6.0       6.0      7.8       8.9       7.3\n",
       "5     Ana          7.8       9.6      7.7       8.0       6.5\n",
       "6  Carlos          6.3       6.4      8.2       9.0       7.2\n",
       "7    Jose          7.9       9.7      7.5       8.0       6.0\n",
       "8   Sonia          6.0       6.0      6.5       5.5       8.7\n",
       "9   Maria          6.8       7.2      8.7       9.0       7.0"
      ]
     },
     "execution_count": 2,
     "metadata": {},
     "output_type": "execute_result"
    }
   ],
   "source": [
    "df = pd.read_csv('C:/Users/diego/Desktop/Universidad/6to-Semestre/Aprendizaje_Inteligente/Aprendizaje_No_Supervisado/EjemploEstudiantes.csv', sep=';', decimal=',')\n",
    "df"
   ]
  },
  {
   "cell_type": "markdown",
   "metadata": {},
   "source": [
    "#### Exploración Inicial"
   ]
  },
  {
   "cell_type": "code",
   "execution_count": 3,
   "metadata": {},
   "outputs": [
    {
     "name": "stdout",
     "output_type": "stream",
     "text": [
      "Media de cada variable\n"
     ]
    },
    {
     "data": {
      "text/plain": [
       "Matematicas    6.79\n",
       "Ciencias       7.65\n",
       "Espanol        7.74\n",
       "Historia       7.90\n",
       "EdFisica       7.42\n",
       "dtype: float64"
      ]
     },
     "execution_count": 3,
     "metadata": {},
     "output_type": "execute_result"
    }
   ],
   "source": [
    "print('Media de cada variable')\n",
    "# Media de cada variable\n",
    "dfsiNombr = df.drop('Nombre', axis=1)\n",
    "dfsiNombr.mean(axis=0)"
   ]
  },
  {
   "cell_type": "code",
   "execution_count": 4,
   "metadata": {},
   "outputs": [
    {
     "name": "stdout",
     "output_type": "stream",
     "text": [
      "Varianza de cada variable\n"
     ]
    },
    {
     "data": {
      "text/plain": [
       "Matematicas    0.905444\n",
       "Ciencias       2.591667\n",
       "Espanol        0.740444\n",
       "Historia       1.257778\n",
       "EdFisica       0.861778\n",
       "dtype: float64"
      ]
     },
     "execution_count": 4,
     "metadata": {},
     "output_type": "execute_result"
    }
   ],
   "source": [
    "print('Varianza de cada variable')\n",
    "# Varianza de cada variable\n",
    "dfsiNombr.var(axis=0)"
   ]
  },
  {
   "cell_type": "markdown",
   "metadata": {},
   "source": [
    "#### Modelo PCA"
   ]
  },
  {
   "cell_type": "code",
   "execution_count": 5,
   "metadata": {},
   "outputs": [],
   "source": [
    "pca_pipe = make_pipeline(StandardScaler(), PCA())\n",
    "pca_pipe.fit(dfsiNombr)\n",
    "\n",
    "# Se extrae el modelo entrenado del pipeline\n",
    "pca_model = pca_pipe.named_steps['pca']\n"
   ]
  },
  {
   "cell_type": "markdown",
   "metadata": {},
   "source": [
    "#### Interpretación"
   ]
  },
  {
   "cell_type": "code",
   "execution_count": 6,
   "metadata": {},
   "outputs": [
    {
     "data": {
      "text/html": [
       "<div>\n",
       "<style scoped>\n",
       "    .dataframe tbody tr th:only-of-type {\n",
       "        vertical-align: middle;\n",
       "    }\n",
       "\n",
       "    .dataframe tbody tr th {\n",
       "        vertical-align: top;\n",
       "    }\n",
       "\n",
       "    .dataframe thead th {\n",
       "        text-align: right;\n",
       "    }\n",
       "</style>\n",
       "<table border=\"1\" class=\"dataframe\">\n",
       "  <thead>\n",
       "    <tr style=\"text-align: right;\">\n",
       "      <th></th>\n",
       "      <th>Matematicas</th>\n",
       "      <th>Ciencias</th>\n",
       "      <th>Espanol</th>\n",
       "      <th>Historia</th>\n",
       "      <th>EdFisica</th>\n",
       "    </tr>\n",
       "  </thead>\n",
       "  <tbody>\n",
       "    <tr>\n",
       "      <th>PC1</th>\n",
       "      <td>-0.526644</td>\n",
       "      <td>-0.424936</td>\n",
       "      <td>-0.359147</td>\n",
       "      <td>-0.352697</td>\n",
       "      <td>0.537302</td>\n",
       "    </tr>\n",
       "    <tr>\n",
       "      <th>PC2</th>\n",
       "      <td>-0.270496</td>\n",
       "      <td>-0.508072</td>\n",
       "      <td>0.562082</td>\n",
       "      <td>0.586490</td>\n",
       "      <td>0.093746</td>\n",
       "    </tr>\n",
       "    <tr>\n",
       "      <th>PC3</th>\n",
       "      <td>0.438201</td>\n",
       "      <td>0.040495</td>\n",
       "      <td>0.562276</td>\n",
       "      <td>-0.394180</td>\n",
       "      <td>0.578626</td>\n",
       "    </tr>\n",
       "    <tr>\n",
       "      <th>PC4</th>\n",
       "      <td>-0.261218</td>\n",
       "      <td>0.673627</td>\n",
       "      <td>-0.070086</td>\n",
       "      <td>0.446645</td>\n",
       "      <td>0.523056</td>\n",
       "    </tr>\n",
       "    <tr>\n",
       "      <th>PC5</th>\n",
       "      <td>-0.623878</td>\n",
       "      <td>0.325390</td>\n",
       "      <td>0.483747</td>\n",
       "      <td>-0.420433</td>\n",
       "      <td>-0.306794</td>\n",
       "    </tr>\n",
       "  </tbody>\n",
       "</table>\n",
       "</div>"
      ],
      "text/plain": [
       "     Matematicas  Ciencias   Espanol  Historia  EdFisica\n",
       "PC1    -0.526644 -0.424936 -0.359147 -0.352697  0.537302\n",
       "PC2    -0.270496 -0.508072  0.562082  0.586490  0.093746\n",
       "PC3     0.438201  0.040495  0.562276 -0.394180  0.578626\n",
       "PC4    -0.261218  0.673627 -0.070086  0.446645  0.523056\n",
       "PC5    -0.623878  0.325390  0.483747 -0.420433 -0.306794"
      ]
     },
     "execution_count": 6,
     "metadata": {},
     "output_type": "execute_result"
    }
   ],
   "source": [
    "pd.DataFrame(\n",
    "  data = pca_model.components_,\n",
    "  columns = dfsiNombr.columns,\n",
    "  index = ['PC' + str(i) for i in range(1, len(dfsiNombr.columns) + 1)]\n",
    ")"
   ]
  },
  {
   "cell_type": "code",
   "execution_count": 7,
   "metadata": {},
   "outputs": [
    {
     "data": {
      "text/plain": [
       "<matplotlib.colorbar.Colorbar at 0x28728969670>"
      ]
     },
     "execution_count": 7,
     "metadata": {},
     "output_type": "execute_result"
    },
    {
     "data": {
      "image/png": "[encoded data removed]",
      "text/plain": [
       "<Figure size 800x800 with 2 Axes>"
      ]
     },
     "metadata": {},
     "output_type": "display_data"
    }
   ],
   "source": [
    "fig, ax = plt.subplots(nrows=1, ncols=1, figsize=(8, 8))\n",
    "components = pca_model.components_\n",
    "plt.imshow(components.T, cmap='viridis', aspect='auto')\n",
    "plt.yticks(range(len(dfsiNombr.columns)), dfsiNombr.columns)\n",
    "\n",
    "plt.grid(False)\n",
    "plt.colorbar(label='Componentes')"
   ]
  },
  {
   "cell_type": "markdown",
   "metadata": {},
   "source": [
    "#### Porcentaje de varianza explicada por cada componente"
   ]
  },
  {
   "cell_type": "code",
   "execution_count": 8,
   "metadata": {},
   "outputs": [
    {
     "name": "stdout",
     "output_type": "stream",
     "text": [
      "Varianza explicada por cada componente\n",
      "[0.57864993 0.32573008 0.06931921 0.02452249 0.00177828]\n"
     ]
    },
    {
     "data": {
      "text/plain": [
       "Text(0, 0.5, 'Porcentaje de varianza explicada')"
      ]
     },
     "execution_count": 8,
     "metadata": {},
     "output_type": "execute_result"
    },
    {
     "data": {
      "image/png": "[encoded data removed]",
      "text/plain": [
       "<Figure size 800x800 with 1 Axes>"
      ]
     },
     "metadata": {},
     "output_type": "display_data"
    }
   ],
   "source": [
    "print('Varianza explicada por cada componente')\n",
    "print(pca_model.explained_variance_ratio_)\n",
    "\n",
    "fig, ax = plt.subplots(nrows=1, ncols=1, figsize=(8, 8))\n",
    "ax.bar(\n",
    "  x = range(1, len(dfsiNombr.columns) + 1),\n",
    "  height = pca_model.explained_variance_ratio_\n",
    ")\n",
    "for x, y in zip(range(1, len(dfsiNombr.columns) + 1), pca_model.explained_variance_ratio_):\n",
    "  ax.text(x, y, f'{y:.2f}', ha='center', va='bottom')\n",
    "ax.set_xticks(range(1, len(dfsiNombr.columns) + 1))\n",
    "ax.set_ylim(0, 1)\n",
    "ax.set_title('Porcentaje de varianza explicada por cada componente')\n",
    "ax.set_xlabel('Componente principal')\n",
    "ax.set_ylabel('Porcentaje de varianza explicada')"
   ]
  },
  {
   "cell_type": "markdown",
   "metadata": {},
   "source": [
    "#### Porcentaje de Varianza explicada acumulada"
   ]
  },
  {
   "cell_type": "code",
   "execution_count": 9,
   "metadata": {},
   "outputs": [
    {
     "name": "stdout",
     "output_type": "stream",
     "text": [
      "Varianza explicada acumulada\n",
      "[0.57864993 0.90438002 0.97369923 0.99822172 1.        ]\n"
     ]
    },
    {
     "data": {
      "text/plain": [
       "Text(0, 0.5, 'Porcentaje de varianza explicada acumulada')"
      ]
     },
     "execution_count": 9,
     "metadata": {},
     "output_type": "execute_result"
    },
    {
     "data": {
      "image/png": "[encoded data removed]",
      "text/plain": [
       "<Figure size 800x800 with 1 Axes>"
      ]
     },
     "metadata": {},
     "output_type": "display_data"
    }
   ],
   "source": [
    "prop_var_acum = pca_model.explained_variance_ratio_.cumsum()\n",
    "print('Varianza explicada acumulada')\n",
    "print(prop_var_acum)\n",
    "\n",
    "fig, ax = plt.subplots(nrows=1, ncols=1, figsize=(8, 8))\n",
    "ax.plot(\n",
    "  np.arange(len(dfsiNombr.columns)) + 1,\n",
    "  prop_var_acum,\n",
    "  marker = 'o'\n",
    ")\n",
    "for x, y in zip(np.arange(len(dfsiNombr.columns)) + 1, prop_var_acum):\n",
    "  label = round(y, 2)\n",
    "  ax.annotate(\n",
    "    label,\n",
    "    (x, y),\n",
    "    textcoords=\"offset points\",\n",
    "    xytext=(0,10),\n",
    "    ha='center'\n",
    "  )\n",
    "ax.set_ylim(0, 1.1)\n",
    "ax.set_xticks(np.arange(len(dfsiNombr.columns)) + 1)\n",
    "ax.set_title('Varianza explicada acumulada')\n",
    "ax.set_xlabel('Componente principal')\n",
    "ax.set_ylabel('Porcentaje de varianza explicada acumulada')\n",
    "\n"
   ]
  },
  {
   "cell_type": "markdown",
   "metadata": {},
   "source": [
    "#### Transformación"
   ]
  },
  {
   "cell_type": "code",
   "execution_count": 10,
   "metadata": {},
   "outputs": [
    {
     "data": {
      "text/html": [
       "<div>\n",
       "<style scoped>\n",
       "    .dataframe tbody tr th:only-of-type {\n",
       "        vertical-align: middle;\n",
       "    }\n",
       "\n",
       "    .dataframe tbody tr th {\n",
       "        vertical-align: top;\n",
       "    }\n",
       "\n",
       "    .dataframe thead th {\n",
       "        text-align: right;\n",
       "    }\n",
       "</style>\n",
       "<table border=\"1\" class=\"dataframe\">\n",
       "  <thead>\n",
       "    <tr style=\"text-align: right;\">\n",
       "      <th></th>\n",
       "      <th>Matematicas</th>\n",
       "      <th>Ciencias</th>\n",
       "      <th>Espanol</th>\n",
       "      <th>Historia</th>\n",
       "      <th>EdFisica</th>\n",
       "    </tr>\n",
       "  </thead>\n",
       "  <tbody>\n",
       "    <tr>\n",
       "      <th>Estudiante 1</th>\n",
       "      <td>-0.323063</td>\n",
       "      <td>1.772525</td>\n",
       "      <td>1.198801</td>\n",
       "      <td>-0.055015</td>\n",
       "      <td>-0.003633</td>\n",
       "    </tr>\n",
       "    <tr>\n",
       "      <th>Estudiante 2</th>\n",
       "      <td>-0.665441</td>\n",
       "      <td>-1.638702</td>\n",
       "      <td>0.145476</td>\n",
       "      <td>-0.023065</td>\n",
       "      <td>0.123377</td>\n",
       "    </tr>\n",
       "    <tr>\n",
       "      <th>Estudiante 3</th>\n",
       "      <td>-1.002547</td>\n",
       "      <td>-0.515692</td>\n",
       "      <td>0.628888</td>\n",
       "      <td>0.516444</td>\n",
       "      <td>-0.142876</td>\n",
       "    </tr>\n",
       "    <tr>\n",
       "      <th>Estudiante 4</th>\n",
       "      <td>3.172095</td>\n",
       "      <td>-0.262782</td>\n",
       "      <td>-0.381960</td>\n",
       "      <td>0.677777</td>\n",
       "      <td>0.062504</td>\n",
       "    </tr>\n",
       "    <tr>\n",
       "      <th>Estudiante 5</th>\n",
       "      <td>0.488868</td>\n",
       "      <td>1.365402</td>\n",
       "      <td>-0.835236</td>\n",
       "      <td>-0.155792</td>\n",
       "      <td>-0.123367</td>\n",
       "    </tr>\n",
       "    <tr>\n",
       "      <th>Estudiante 6</th>\n",
       "      <td>-1.708633</td>\n",
       "      <td>-1.021700</td>\n",
       "      <td>-0.127077</td>\n",
       "      <td>0.066833</td>\n",
       "      <td>-0.025292</td>\n",
       "    </tr>\n",
       "    <tr>\n",
       "      <th>Estudiante 7</th>\n",
       "      <td>-0.067586</td>\n",
       "      <td>1.462336</td>\n",
       "      <td>-0.506240</td>\n",
       "      <td>-0.117928</td>\n",
       "      <td>-0.013124</td>\n",
       "    </tr>\n",
       "    <tr>\n",
       "      <th>Estudiante 8</th>\n",
       "      <td>-2.011855</td>\n",
       "      <td>-1.275865</td>\n",
       "      <td>-0.542150</td>\n",
       "      <td>-0.197787</td>\n",
       "      <td>-0.017434</td>\n",
       "    </tr>\n",
       "    <tr>\n",
       "      <th>Estudiante 9</th>\n",
       "      <td>3.042030</td>\n",
       "      <td>-1.254881</td>\n",
       "      <td>0.448829</td>\n",
       "      <td>-0.639999</td>\n",
       "      <td>-0.037885</td>\n",
       "    </tr>\n",
       "    <tr>\n",
       "      <th>Estudiante 10</th>\n",
       "      <td>-0.923869</td>\n",
       "      <td>1.369359</td>\n",
       "      <td>-0.029330</td>\n",
       "      <td>-0.071467</td>\n",
       "      <td>0.177730</td>\n",
       "    </tr>\n",
       "  </tbody>\n",
       "</table>\n",
       "</div>"
      ],
      "text/plain": [
       "               Matematicas  Ciencias   Espanol  Historia  EdFisica\n",
       "Estudiante 1     -0.323063  1.772525  1.198801 -0.055015 -0.003633\n",
       "Estudiante 2     -0.665441 -1.638702  0.145476 -0.023065  0.123377\n",
       "Estudiante 3     -1.002547 -0.515692  0.628888  0.516444 -0.142876\n",
       "Estudiante 4      3.172095 -0.262782 -0.381960  0.677777  0.062504\n",
       "Estudiante 5      0.488868  1.365402 -0.835236 -0.155792 -0.123367\n",
       "Estudiante 6     -1.708633 -1.021700 -0.127077  0.066833 -0.025292\n",
       "Estudiante 7     -0.067586  1.462336 -0.506240 -0.117928 -0.013124\n",
       "Estudiante 8     -2.011855 -1.275865 -0.542150 -0.197787 -0.017434\n",
       "Estudiante 9      3.042030 -1.254881  0.448829 -0.639999 -0.037885\n",
       "Estudiante 10    -0.923869  1.369359 -0.029330 -0.071467  0.177730"
      ]
     },
     "execution_count": 10,
     "metadata": {},
     "output_type": "execute_result"
    }
   ],
   "source": [
    "proyecciones = pca_pipe.transform(dfsiNombr)\n",
    "proyecciones = pd.DataFrame(\n",
    "  proyecciones,\n",
    "  columns = dfsiNombr.columns,\n",
    "  index = ['Estudiante ' + str(i) for i in range(1, len(dfsiNombr) + 1)]\n",
    ")\n",
    "proyecciones\n"
   ]
  }
 ],
 "metadata": {
  "kernelspec": {
   "display_name": "Python 3",
   "language": "python",
   "name": "python3"
  },
  "language_info": {
   "codemirror_mode": {
    "name": "ipython",
    "version": 3
   },
   "file_extension": ".py",
   "mimetype": "text/x-python",
   "name": "python",
   "nbconvert_exporter": "python",
   "pygments_lexer": "ipython3",
   "version": "3.12.2"
  }
 },
 "nbformat": 4,
 "nbformat_minor": 2
}
