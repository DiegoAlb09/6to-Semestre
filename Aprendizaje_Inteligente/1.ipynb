{
 "cells": [
  {
   "cell_type": "markdown",
   "metadata": {},
   "source": [
    "# Universidad Autonoma de Aguascalientes\n",
    "## Departamento: Ciencias de la Computación\n",
    "## Carerra: Ingenieria en Computación Inteligente\n",
    "### Curso: Aprendizaje Inteligente (Machine Learning)\n",
    "### Maestro: Dr. Francisco Javier Luna Rosas\n",
    "### Alumno: Diego Alberto Aranda Gonzalez\n",
    "### Semestre: Enero_Junio del 2024"
   ]
  },
  {
   "cell_type": "markdown",
   "metadata": {},
   "source": [
    "#### Practica 7"
   ]
  },
  {
   "cell_type": "code",
   "execution_count": 1,
   "metadata": {
    "vscode": {
     "languageId": "r"
    }
   },
   "outputs": [
    {
     "name": "stderr",
     "output_type": "stream",
     "text": [
      "Warning message:\n",
      "\"package 'readr' was built under R version 4.3.3\"\n"
     ]
    }
   ],
   "source": [
    "library(readr)"
   ]
  },
  {
   "cell_type": "code",
   "execution_count": 6,
   "metadata": {
    "vscode": {
     "languageId": "r"
    }
   },
   "outputs": [
    {
     "name": "stdout",
     "output_type": "stream",
     "text": [
      "      lcavol  lweight age      lbph svi       lcp gleason pgg45       lpsa\n",
      "1 -0.5798185 2.769459  50 -1.386294   0 -1.386294       6     0 -0.4307829\n",
      "2 -0.9942523 3.319626  58 -1.386294   0 -1.386294       6     0 -0.1625189\n",
      "3 -0.5108256 2.691243  74 -1.386294   0 -1.386294       7    20 -0.1625189\n",
      "4 -1.2039728 3.282789  58 -1.386294   0 -1.386294       6     0 -0.1625189\n",
      "5  0.7514161 3.432373  62 -1.386294   0 -1.386294       6     0  0.3715636\n",
      "6 -1.0498221 3.228826  50 -1.386294   0 -1.386294       6     0  0.7654678\n"
     ]
    }
   ],
   "source": [
    "datos <- read.csv(\"C:/Users/diego/Desktop/Universidad/6to-Semestre/Aprendizaje_Inteligente/prostate_data.csv\",\n",
    "                  header = TRUE, dec = \",\", sep = \";\")\n",
    "print(head(datos))"
   ]
  },
  {
   "cell_type": "markdown",
   "metadata": {},
   "source": [
    "##### La variable qeu mejor se correlaciona con lpsa es lcavol ya que se la que tiene mas alta correlación"
   ]
  },
  {
   "cell_type": "markdown",
   "metadata": {},
   "source": [
    "##### Predecimos lpsa en funcion de lcavol"
   ]
  },
  {
   "cell_type": "code",
   "execution_count": 8,
   "metadata": {
    "vscode": {
     "languageId": "r"
    }
   },
   "outputs": [
    {
     "name": "stdout",
     "output_type": "stream",
     "text": [
      "           lcavol    lweight       age         lbph         svi          lcp\n",
      "lcavol  1.0000000 0.28052138 0.2249999  0.027349703  0.53884500  0.675310484\n",
      "lweight 0.2805214 1.00000000 0.3479691  0.442264399  0.15538490  0.164537142\n",
      "age     0.2249999 0.34796911 1.0000000  0.350185896  0.11765804  0.127667752\n",
      "lbph    0.0273497 0.44226440 0.3501859  1.000000000 -0.08584324 -0.006999431\n",
      "svi     0.5388450 0.15538490 0.1176580 -0.085843238  1.00000000  0.673111185\n",
      "lcp     0.6753105 0.16453714 0.1276678 -0.006999431  0.67311118  1.000000000\n",
      "gleason 0.4324171 0.05688209 0.2688916  0.077820447  0.32041222  0.514830063\n",
      "pgg45   0.4336522 0.10735379 0.2761124  0.078460018  0.45764762  0.631528246\n",
      "lpsa    0.7344603 0.43331938 0.1695928  0.179809404  0.56621822  0.548813175\n",
      "           gleason      pgg45      lpsa\n",
      "lcavol  0.43241706 0.43365225 0.7344603\n",
      "lweight 0.05688209 0.10735379 0.4333194\n",
      "age     0.26889160 0.27611245 0.1695928\n",
      "lbph    0.07782045 0.07846002 0.1798094\n",
      "svi     0.32041222 0.45764762 0.5662182\n",
      "lcp     0.51483006 0.63152825 0.5488132\n",
      "gleason 1.00000000 0.75190451 0.3689868\n",
      "pgg45   0.75190451 1.00000000 0.4223159\n",
      "lpsa    0.36898681 0.42231586 1.0000000\n",
      "\n",
      "Call:\n",
      "lm(formula = lpsa ~ lcavol, data = datos)\n",
      "\n",
      "Coefficients:\n",
      "(Intercept)       lcavol  \n",
      "     1.5073       0.7193  \n",
      "\n"
     ]
    },
    {
     "data": {
      "image/png": "[encoded data removed]",
      "text/plain": [
       "plot without title"
      ]
     },
     "metadata": {
      "image/png": {
       "height": 420,
       "width": 420
      }
     },
     "output_type": "display_data"
    }
   ],
   "source": [
    "print(cor(datos))\n",
    "modelo <- lm(lpsa ~ lcavol, data = datos)\n",
    "print(modelo)\n",
    "plot(datos$lcavol, datos$lpsa, col = \"red\")\n",
    "abline(modelo, col = \"blue\")\n"
   ]
  },
  {
   "cell_type": "markdown",
   "metadata": {},
   "source": [
    "##### Predecimos los calores de lcavol con un intervalo de confianza de 95%\n",
    "##### que es predefinido en R"
   ]
  },
  {
   "cell_type": "code",
   "execution_count": 10,
   "metadata": {
    "vscode": {
     "languageId": "r"
    }
   },
   "outputs": [
    {
     "name": "stdout",
     "output_type": "stream",
     "text": [
      "       fit      lwr      upr\n",
      "1 2.010822 1.829324 2.192319\n",
      "2 1.802219 1.598768 2.005670\n",
      "3 1.341854 1.075486 1.608221\n",
      "\n",
      "Call:\n",
      "lm(formula = lpsa ~ age, data = datos)\n",
      "\n",
      "Coefficients:\n",
      "(Intercept)          age  \n",
      "    0.79906      0.02629  \n",
      "\n"
     ]
    }
   ],
   "source": [
    "pred <- predict(modelo, data.frame(lcavol = c(0.70, 0.41, -0.23)),\n",
    "                interval = \"confidence\")\n",
    "print(pred)\n",
    "\n",
    "modelo <- lm(lpsa ~ age, data = datos)\n",
    "print(modelo)"
   ]
  },
  {
   "cell_type": "markdown",
   "metadata": {},
   "source": [
    "##### Se observa que en el modelo hay una menor correlacion, por lo tanto seria este modelo un poco"
   ]
  },
  {
   "cell_type": "code",
   "execution_count": 11,
   "metadata": {
    "vscode": {
     "languageId": "r"
    }
   },
   "outputs": [
    {
     "name": "stdout",
     "output_type": "stream",
     "text": [
      "       fit      lwr      upr\n",
      "1 1.903431 1.184926 2.621936\n",
      "2 2.245260 1.885712 2.604808\n",
      "3 2.665973 2.345921 2.986024\n",
      "4 2.823740 2.354460 3.293020\n"
     ]
    },
    {
     "data": {
      "image/png": "[encoded data removed]",
      "text/plain": [
       "plot without title"
      ]
     },
     "metadata": {
      "image/png": {
       "height": 420,
       "width": 420
      }
     },
     "output_type": "display_data"
    }
   ],
   "source": [
    "pred <- predict(modelo, data.frame(age = c(42, 55, 71, 77)),\n",
    "                interval = \"confidence\")\n",
    "print(pred)\n",
    "plot(datos$age, datos$lpsa, col = \"red\")\n",
    "abline(modelo, col = \"blue\")\n"
   ]
  },
  {
   "cell_type": "markdown",
   "metadata": {},
   "source": [
    "##### Podemos hacer una predicción cuando la edad es 42, 55, 71, 77 años"
   ]
  },
  {
   "cell_type": "code",
   "execution_count": 12,
   "metadata": {
    "vscode": {
     "languageId": "r"
    }
   },
   "outputs": [
    {
     "name": "stdout",
     "output_type": "stream",
     "text": [
      "       fit      lwr      upr\n",
      "1 1.903431 1.184926 2.621936\n",
      "2 2.245260 1.885712 2.604808\n",
      "3 2.665973 2.345921 2.986024\n",
      "4 2.823740 2.354460 3.293020\n"
     ]
    }
   ],
   "source": [
    "pred <- predict(modelo, data.frame(age = c(42, 55, 71, 77)),\n",
    "                interval = \"confidence\")\n",
    "print(pred)"
   ]
  }
 ],
 "metadata": {
  "kernelspec": {
   "display_name": "R",
   "language": "R",
   "name": "ir"
  },
  "language_info": {
   "codemirror_mode": "r",
   "file_extension": ".r",
   "mimetype": "text/x-r-source",
   "name": "R",
   "pygments_lexer": "r",
   "version": "4.3.2"
  }
 },
 "nbformat": 4,
 "nbformat_minor": 2
}
