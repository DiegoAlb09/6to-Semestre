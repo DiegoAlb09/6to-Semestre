{
  "nbformat": 4,
  "nbformat_minor": 0,
  "metadata": {
    "colab": {
      "provenance": [],
      "authorship_tag": "ABX9TyPD/a3IPmB2xKGDQjpQQW6e",
      "include_colab_link": true
    },
    "kernelspec": {
      "name": "python3",
      "display_name": "Python 3"
    },
    "language_info": {
      "name": "python"
    }
  },
  "cells": [
    {
      "cell_type": "markdown",
      "metadata": {
        "id": "view-in-github",
        "colab_type": "text"
      },
      "source": [
        "<a href=\"https://colab.research.google.com/github/DiegoAlb09/6to-Semestre/blob/main/Programacion_Algoritmos_2.ipynb\" target=\"_parent\"><img src=\"https://colab.research.google.com/assets/colab-badge.svg\" alt=\"Open In Colab\"/></a>"
      ]
    },
    {
      "cell_type": "code",
      "execution_count": 9,
      "metadata": {
        "colab": {
          "base_uri": "https://localhost:8080/"
        },
        "id": "7NuhpjIfY7dW",
        "outputId": "e94fe416-df05-4144-cb7f-edd47a7fb5c0"
      },
      "outputs": [
        {
          "output_type": "stream",
          "name": "stdout",
          "text": [
            "Requirement already satisfied: numpy in /usr/local/lib/python3.10/dist-packages (1.25.2)\n"
          ]
        }
      ],
      "source": [
        "!pip install numpy"
      ]
    },
    {
      "cell_type": "code",
      "source": [
        "import numpy as np"
      ],
      "metadata": {
        "id": "eN7rHmwEafi4"
      },
      "execution_count": 3,
      "outputs": []
    },
    {
      "cell_type": "markdown",
      "source": [
        "### Universidad Autonoma de Aguascalientes\n",
        "### Ingenieria en Computación Inteligente\n",
        "### Introducción a los Sistemas Operativos\n",
        "### Maestra: Clelia Ivette Ruiz Vertiz\n",
        "### Alumno: Diego Alberto Aranda Gonzalez\n",
        "### Programa que simula la ejecución de procesos con diferentes algoritmos de planificación\n",
        "#### Tabla de reemplazo de páginas FIFO\n",
        "#### Tabla de reemplazo de páginas Round Robin"
      ],
      "metadata": {
        "id": "GzedHZcoa8dv"
      }
    },
    {
      "cell_type": "code",
      "source": [
        "def buscarTiempoEspera(procesos,n,bt,wt,quantum):\n",
        "  rem_bt = [0] * n\n",
        "  #Copiamos el tiempo de ejecución de los procesos en rem_bt\n",
        "  for i in range(n):\n",
        "    rem_bt[i] = bt[i]\n",
        "  t = 0\n",
        "\n",
        "  while(1):\n",
        "    done = True\n",
        "    for i in range(n):\n",
        "      if (rem_bt[i] > 0):\n",
        "        done = False\n",
        "        if (rem_bt[i] > quantum):\n",
        "          t += quantum\n",
        "          rem_bt[i] -= quantum\n",
        "        else:\n",
        "          t = t + rem_bt[i]\n",
        "          wt[i] = t - bt[i]\n",
        "          rem_bt[i] = 0\n",
        "    if (done == True):\n",
        "      break\n",
        "def findTurnAroundTime(procesos,n,bt,wt,tat):\n",
        "  for i in range(n):\n",
        "    tat[i] = bt[i] + wt[i]\n",
        "\n",
        "def findavgTime(procesos,n,bt,quantum):\n",
        "  wt = [0] * n\n",
        "  tat = [0] * n\n",
        "  buscarTiempoEspera(procesos,n,bt,wt,quantum)\n",
        "  findTurnAroundTime(procesos,n,bt,wt,tat)\n",
        "  total_wt = 0\n",
        "  total_tat = 0\n",
        "  print(\"Proceso\\tTiempo de llegada\\tTiempo de Ejecución\\tTiempo de Espera\\tTiempo de Retorno\")\n",
        "  for i in range(n):\n",
        "    total_wt += wt[i]\n",
        "    total_tat += tat[i]\n",
        "    print(str(i + 1) + \"\\t\" + str(int(procesos[i])) + \"\\t\\t\\t\" + str(int(bt[i])) + \"\\t\\t\\t\" + str(wt[i]) + \"\\t\\t\\t\" + str(tat[i]))\n",
        "  print(\"Tiempo de espera promedio: \", total_wt / n)\n",
        "  print(\"Tiempo de retorno promedio: \", total_tat / n)"
      ],
      "metadata": {
        "id": "SYyp96mIbHWt"
      },
      "execution_count": 5,
      "outputs": []
    },
    {
      "cell_type": "markdown",
      "source": [
        "##### Función FIFO"
      ],
      "metadata": {
        "id": "BJMS1qqybRPH"
      }
    },
    {
      "cell_type": "code",
      "source": [
        "print(\"Algoritmo FIFO\")\n",
        "numProcesos = np.random.randint(1, 10)\n",
        "print(\"Numero de procesos: \" + str(numProcesos))\n",
        "#Se crea una matriz para almacenar el orden de llegada y el tiempo de cada proceso\n",
        "procesos = np.zeros((numProcesos, 2))\n",
        "for i in range(numProcesos):\n",
        "  procesos[i][0] = np.random.randint(0, 10)\n",
        "  procesos[i][1] = np.random.randint(1, 100)\n",
        "#Se ordenan los procesos por orden de llegada\n",
        "procesos = procesos[procesos[:,0].argsort()]\n",
        "#Se calcula el tiempo de espera y el tiempo de retorno\n",
        "tiempoFinalizacion = 0\n",
        "tiempoRetorno = 0\n",
        "tiempoEsperaTotal = 0\n",
        "tiempoRetornoTotal = 0\n",
        "tiempoTotal = 0\n",
        "tiempoE = 0\n",
        "tiempoP = 0\n",
        "print(\"Proceso\\tTiempo de llegada\\tTiempo de Ejecución\\tTiempo de Inicio\\tTiempo Finalizacion\\tTiempo Total\\tTiempo de Espera\\tP\")\n",
        "for i in range(numProcesos):\n",
        "  tiempoFinalizacion = tiempoRetorno\n",
        "  tiempoRetorno += procesos[i][1]\n",
        "  tiempoTotal = tiempoRetorno - procesos[i][0]\n",
        "  tiempoE = tiempoFinalizacion - procesos[i][0]\n",
        "  tiempoP = tiempoTotal / procesos[i][1]\n",
        "  tiempoEsperaTotal += tiempoTotal\n",
        "  tiempoRetornoTotal += tiempoE\n",
        "  print(str(i + 1) + \"\\t\" + str(int(procesos[i][0])) + \"\\t\\t\\t\" + str(int(procesos[i][1])) + \"\\t\\t\\t\" + str(tiempoFinalizacion) + \"\\t\\t\\t\" + str(tiempoRetorno) + \"\\t\\t\\t\" + str(tiempoTotal) + \"\\t\\t\\t\" + str(tiempoE) + \"\\t\\t\\t\" + str(tiempoP))\n",
        "print(\"Tiempo Total promedio: \", tiempoEsperaTotal / numProcesos)\n",
        "print(\"Tiempo de retorno promedio: \", tiempoRetornoTotal / numProcesos)"
      ],
      "metadata": {
        "colab": {
          "base_uri": "https://localhost:8080/"
        },
        "id": "W1259T7ObWKH",
        "outputId": "0e9b80c6-6b6e-48d7-8b9b-e94d273bd988"
      },
      "execution_count": 7,
      "outputs": [
        {
          "output_type": "stream",
          "name": "stdout",
          "text": [
            "Algoritmo FIFO\n",
            "Numero de procesos: 9\n",
            "Proceso\tTiempo de llegada\tTiempo de Ejecución\tTiempo de Inicio\tTiempo Finalizacion\tTiempo Total\tTiempo de Espera\tP\n",
            "1\t2\t\t\t85\t\t\t0\t\t\t85.0\t\t\t83.0\t\t\t-2.0\t\t\t0.9764705882352941\n",
            "2\t2\t\t\t33\t\t\t85.0\t\t\t118.0\t\t\t116.0\t\t\t83.0\t\t\t3.515151515151515\n",
            "3\t5\t\t\t93\t\t\t118.0\t\t\t211.0\t\t\t206.0\t\t\t113.0\t\t\t2.21505376344086\n",
            "4\t5\t\t\t38\t\t\t211.0\t\t\t249.0\t\t\t244.0\t\t\t206.0\t\t\t6.421052631578948\n",
            "5\t6\t\t\t54\t\t\t249.0\t\t\t303.0\t\t\t297.0\t\t\t243.0\t\t\t5.5\n",
            "6\t6\t\t\t78\t\t\t303.0\t\t\t381.0\t\t\t375.0\t\t\t297.0\t\t\t4.8076923076923075\n",
            "7\t7\t\t\t15\t\t\t381.0\t\t\t396.0\t\t\t389.0\t\t\t374.0\t\t\t25.933333333333334\n",
            "8\t7\t\t\t59\t\t\t396.0\t\t\t455.0\t\t\t448.0\t\t\t389.0\t\t\t7.593220338983051\n",
            "9\t9\t\t\t58\t\t\t455.0\t\t\t513.0\t\t\t504.0\t\t\t446.0\t\t\t8.689655172413794\n",
            "Tiempo Total promedio:  295.77777777777777\n",
            "Tiempo de retorno promedio:  238.77777777777777\n"
          ]
        }
      ]
    },
    {
      "cell_type": "markdown",
      "source": [
        "#### Función Round Robin"
      ],
      "metadata": {
        "id": "i-aPhJwibfba"
      }
    },
    {
      "cell_type": "code",
      "source": [
        "print(\"Algoritmo Round Robin\")\n",
        "numProcesos = np.random.randint(1, 10)\n",
        "print(\"Numero de procesos: \" + str(numProcesos))\n",
        "procesos = np.zeros(numProcesos)\n",
        "for i in range(numProcesos):\n",
        "  procesos[i] = np.random.randint(1, 100)\n",
        "tiempoProceso = np.zeros(numProcesos)\n",
        "for i in range(numProcesos):\n",
        "    tiempoProceso[i] = np.random.randint(1, 100)\n",
        "quantum = np.random.randint(1, 10)\n",
        "print(\"Quantum: \" + str(quantum))\n",
        "findavgTime(procesos,numProcesos,tiempoProceso,quantum)"
      ],
      "metadata": {
        "colab": {
          "base_uri": "https://localhost:8080/"
        },
        "id": "41DDq7PPbjpX",
        "outputId": "d0f03265-ff40-4f17-fdb1-cddce455a941"
      },
      "execution_count": 8,
      "outputs": [
        {
          "output_type": "stream",
          "name": "stdout",
          "text": [
            "Algoritmo Round Robin\n",
            "Numero de procesos: 5\n",
            "Quantum: 9\n",
            "Proceso\tTiempo de llegada\tTiempo de Ejecución\tTiempo de Espera\tTiempo de Retorno\n",
            "1\t44\t\t\t22\t\t\t59.0\t\t\t81.0\n",
            "2\t64\t\t\t28\t\t\t81.0\t\t\t109.0\n",
            "3\t50\t\t\t92\t\t\t90.0\t\t\t182.0\n",
            "4\t90\t\t\t35\t\t\t91.0\t\t\t126.0\n",
            "5\t73\t\t\t5\t\t\t36.0\t\t\t41.0\n",
            "Tiempo de espera promedio:  71.4\n",
            "Tiempo de retorno promedio:  107.8\n"
          ]
        }
      ]
    }
  ]
}