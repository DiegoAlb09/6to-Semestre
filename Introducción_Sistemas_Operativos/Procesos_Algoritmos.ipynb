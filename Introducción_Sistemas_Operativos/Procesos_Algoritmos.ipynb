{
 "cells": [
  {
   "cell_type": "markdown",
   "metadata": {},
   "source": [
    "### Universidad Autonoma de Aguascalientes\n",
    "### Ingenieria en Computación Inteligente\n",
    "### Introducción a los Sistemas Operativos\n",
    "### Maestra: Clelia Ivette Ruiz Vertiz\n",
    "### Alumno: Diego Alberto Aranda Gonzalez\n",
    "### Programa que simula la ejecución de procesos con diferentes algoritmos de planificación\n",
    "#### Tabla de reemplazo de páginas FIFO\n",
    "#### Tabla de reemplazo de páginas Round Robin"
   ]
  },
  {
   "cell_type": "code",
   "execution_count": 1,
   "metadata": {},
   "outputs": [],
   "source": [
    "import numpy as np"
   ]
  },
  {
   "cell_type": "code",
   "execution_count": 2,
   "metadata": {},
   "outputs": [],
   "source": [
    "def menu():\n",
    "  print(\"----MENU----\")\n",
    "  print(\"1.- FIFO\")\n",
    "  print(\"2.- Round Robin\")\n",
    "  print(\"3.- Salir\")\n",
    "  opcion = int(input(\"Selecciona una opción: \"))\n",
    "  return opcion"
   ]
  },
  {
   "cell_type": "code",
   "execution_count": 4,
   "metadata": {},
   "outputs": [],
   "source": [
    "def buscarTiempoEspera(procesos,n,bt,wt,quantum):\n",
    "  rem_bt = [0] * n \n",
    "  #Copiamos el tiempo de ejecución de los procesos en rem_bt\n",
    "  for i in range(n):\n",
    "    rem_bt[i] = bt[i]\n",
    "  t = 0\n",
    "\n",
    "  while(1):\n",
    "    done = True\n",
    "    for i in range(n):\n",
    "      if (rem_bt[i] > 0):\n",
    "        done = False\n",
    "        if (rem_bt[i] > quantum):\n",
    "          t += quantum\n",
    "          rem_bt[i] -= quantum\n",
    "        else:\n",
    "          t = t + rem_bt[i]\n",
    "          wt[i] = t - bt[i]\n",
    "          rem_bt[i] = 0\n",
    "    if (done == True):\n",
    "      break\n",
    "def findTurnAroundTime(procesos,n,bt,wt,tat):\n",
    "  for i in range(n):\n",
    "    tat[i] = bt[i] + wt[i]\n",
    "\n",
    "def findavgTime(procesos,n,bt,quantum):\n",
    "  wt = [0] * n\n",
    "  tat = [0] * n\n",
    "  buscarTiempoEspera(procesos,n,bt,wt,quantum)\n",
    "  findTurnAroundTime(procesos,n,bt,wt,tat)\n",
    "  total_wt = 0\n",
    "  total_tat = 0\n",
    "  print(\"Proceso\\tTiempo de llegada\\tTiempo de Ejecución\\tTiempo de Espera\\tTiempo de Retorno\")\n",
    "  for i in range(n):\n",
    "    total_wt += wt[i]\n",
    "    total_tat += tat[i]\n",
    "    print(str(i + 1) + \"\\t\" + str(int(procesos[i])) + \"\\t\\t\\t\" + str(int(bt[i])) + \"\\t\\t\\t\" + str(wt[i]) + \"\\t\\t\\t\" + str(tat[i]))\n",
    "  print(\"Tiempo de espera promedio: \", total_wt / n)\n",
    "  print(\"Tiempo de retorno promedio: \", total_tat / n)"
   ]
  },
  {
   "cell_type": "markdown",
   "metadata": {},
   "source": [
    "##### Funicón FIFO"
   ]
  },
  {
   "cell_type": "code",
   "execution_count": 12,
   "metadata": {},
   "outputs": [
    {
     "name": "stdout",
     "output_type": "stream",
     "text": [
      "Algoritmo FIFO\n",
      "Numero de procesos: 8\n",
      "Proceso\tTiempo de llegada\tTiempo de Ejecución\tTiempo de Inicio\tTiempo Finalizacion\tTiempo Total\tTiempo de Espera\tP\n",
      "1\t0\t\t\t39\t\t\t0\t\t\t39.0\t\t\t39.0\t\t\t0.0\t\t\t1.0\n",
      "2\t3\t\t\t46\t\t\t39.0\t\t\t85.0\t\t\t82.0\t\t\t36.0\t\t\t1.7826086956521738\n",
      "3\t3\t\t\t5\t\t\t85.0\t\t\t90.0\t\t\t87.0\t\t\t82.0\t\t\t17.4\n",
      "4\t5\t\t\t96\t\t\t90.0\t\t\t186.0\t\t\t181.0\t\t\t85.0\t\t\t1.8854166666666667\n",
      "5\t5\t\t\t56\t\t\t186.0\t\t\t242.0\t\t\t237.0\t\t\t181.0\t\t\t4.232142857142857\n",
      "6\t6\t\t\t43\t\t\t242.0\t\t\t285.0\t\t\t279.0\t\t\t236.0\t\t\t6.488372093023256\n",
      "7\t6\t\t\t45\t\t\t285.0\t\t\t330.0\t\t\t324.0\t\t\t279.0\t\t\t7.2\n",
      "8\t9\t\t\t53\t\t\t330.0\t\t\t383.0\t\t\t374.0\t\t\t321.0\t\t\t7.056603773584905\n",
      "Tiempo Total promedio:  200.375\n",
      "Tiempo de retorno promedio:  152.5\n"
     ]
    }
   ],
   "source": [
    "print(\"Algoritmo FIFO\")\n",
    "numProcesos = np.random.randint(1, 10)\n",
    "print(\"Numero de procesos: \" + str(numProcesos))\n",
    "#Se crea una matriz para almacenar el orden de llegada y el tiempo de cada proceso\n",
    "procesos = np.zeros((numProcesos, 2))\n",
    "for i in range(numProcesos):\n",
    "  procesos[i][0] = np.random.randint(0, 10)\n",
    "  procesos[i][1] = np.random.randint(1, 100)\n",
    "#Se ordenan los procesos por orden de llegada\n",
    "procesos = procesos[procesos[:,0].argsort()]\n",
    "#Se calcula el tiempo de espera y el tiempo de retorno\n",
    "tiempoFinalizacion = 0\n",
    "tiempoRetorno = 0\n",
    "tiempoEsperaTotal = 0\n",
    "tiempoRetornoTotal = 0\n",
    "tiempoTotal = 0\n",
    "tiempoE = 0\n",
    "tiempoP = 0\n",
    "print(\"Proceso\\tTiempo de llegada\\tTiempo de Ejecución\\tTiempo de Inicio\\tTiempo Finalizacion\\tTiempo Total\\tTiempo de Espera\\tP\")\n",
    "for i in range(numProcesos):\n",
    "  tiempoFinalizacion = tiempoRetorno\n",
    "  tiempoRetorno += procesos[i][1]\n",
    "  tiempoTotal = tiempoRetorno - procesos[i][0]\n",
    "  tiempoE = tiempoFinalizacion - procesos[i][0]\n",
    "  tiempoP = tiempoTotal / procesos[i][1]\n",
    "  tiempoEsperaTotal += tiempoTotal\n",
    "  tiempoRetornoTotal += tiempoE\n",
    "  print(str(i + 1) + \"\\t\" + str(int(procesos[i][0])) + \"\\t\\t\\t\" + str(int(procesos[i][1])) + \"\\t\\t\\t\" + str(tiempoFinalizacion) + \"\\t\\t\\t\" + str(tiempoRetorno) + \"\\t\\t\\t\" + str(tiempoTotal) + \"\\t\\t\\t\" + str(tiempoE) + \"\\t\\t\\t\" + str(tiempoP))\n",
    "print(\"Tiempo Total promedio: \", tiempoEsperaTotal / numProcesos)\n",
    "print(\"Tiempo de retorno promedio: \", tiempoRetornoTotal / numProcesos)\n"
   ]
  },
  {
   "cell_type": "code",
   "execution_count": 20,
   "metadata": {},
   "outputs": [
    {
     "name": "stdout",
     "output_type": "stream",
     "text": [
      "Algoritmo Round Robin\n",
      "Numero de procesos: 2\n",
      "Quantum: 3\n",
      "Proceso\tTiempo de llegada\tTiempo de Ejecución\tTiempo de Espera\tTiempo de Retorno\n",
      "1\t20\t\t\t21\t\t\t18.0\t\t\t39.0\n",
      "2\t42\t\t\t81\t\t\t21.0\t\t\t102.0\n",
      "Tiempo de espera promedio:  19.5\n",
      "Tiempo de retorno promedio:  70.5\n"
     ]
    }
   ],
   "source": [
    "print(\"Algoritmo Round Robin\")\n",
    "numProcesos = np.random.randint(1, 10)\n",
    "print(\"Numero de procesos: \" + str(numProcesos))\n",
    "procesos = np.zeros(numProcesos)\n",
    "for i in range(numProcesos):\n",
    "  procesos[i] = np.random.randint(1, 100)\n",
    "tiempoProceso = np.zeros(numProcesos)\n",
    "for i in range(numProcesos):\n",
    "    tiempoProceso[i] = np.random.randint(1, 100)\n",
    "quantum = np.random.randint(1, 10)\n",
    "print(\"Quantum: \" + str(quantum))\n",
    "findavgTime(procesos,numProcesos,tiempoProceso,quantum)\n",
    "    "
   ]
  },
  {
   "cell_type": "markdown",
   "metadata": {},
   "source": []
  }
 ],
 "metadata": {
  "kernelspec": {
   "display_name": "Python 3",
   "language": "python",
   "name": "python3"
  },
  "language_info": {
   "codemirror_mode": {
    "name": "ipython",
    "version": 3
   },
   "file_extension": ".py",
   "mimetype": "text/x-python",
   "name": "python",
   "nbconvert_exporter": "python",
   "pygments_lexer": "ipython3",
   "version": "3.12.2"
  }
 },
 "nbformat": 4,
 "nbformat_minor": 2
}
